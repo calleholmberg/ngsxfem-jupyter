{
 "cells": [
  {
   "cell_type": "markdown",
   "metadata": {},
   "source": [
    "# Unfitted FEM discretizations\n",
    "\n",
    "We want to solve geometrically unfitted model problems for stationary domains.\n",
    "\n",
    "We use a level set description (cf. [ngsxfem_helper.ipynb](ngsxfem_helper.ipynb))\n",
    "\n",
    "$$\n",
    "  \\Omega_{-} := \\{ \\phi < 0 \\}, \\quad\n",
    "  \\Omega_{+} := \\{ \\phi > 0 \\}, \\quad\n",
    "  \\Gamma := \\{ \\phi = 0 \\}.\n",
    "$$\n",
    "\n",
    "and use a piecewise linear approximation as a starting point in the discretization (cf. [intlset.ipynb](intlset.ipynb) for a discussion of geometry approximations)\n"
   ]
  },
  {
   "cell_type": "code",
   "execution_count": null,
   "metadata": {
    "collapsed": true
   },
   "outputs": [],
   "source": [
    "import netgen.gui\n",
    "%gui tk\n",
    "import tkinter\n",
    "# the constant pi\n",
    "from math import pi\n",
    "# ngsolve stuff\n",
    "from ngsolve import *\n",
    "# basic xfem functionality\n",
    "from xfem import *\n",
    "# basic geometry features (for the background mesh)\n",
    "from netgen.geom2d import SplineGeometry\n",
    "# visualization stuff\n",
    "from ngsolve.internal import *\n"
   ]
  },
  {
   "cell_type": "markdown",
   "metadata": {},
   "source": [
    "## Interface problem\n",
    "We want to solve a problem of the form\n",
    "$$\n",
    "\\begin{aligned}\n",
    "          - \\operatorname{div} (\\alpha_{\\pm} \\nabla u) = & \\, f \n",
    "          & & \\text{in}~~ \\Omega_{\\pm}, \n",
    "          \\\\\n",
    "          [u]_{\\Gamma} = 0, ~~ [-\\alpha \\nabla u \\cdot n]_{\\Gamma}   = & \\, 0 \n",
    "          &  & \\text{on}~~ \\Gamma.\n",
    "        \\end{aligned}\n",
    "$$"
   ]
  },
  {
   "cell_type": "code",
   "execution_count": null,
   "metadata": {
    "collapsed": true
   },
   "outputs": [],
   "source": [
    "square = SplineGeometry()\n",
    "square.AddRectangle([-1.5,-1.5],[1.5,1.5],bc=1)\n",
    "mesh = Mesh (square.GenerateMesh(maxh=0.4, quad_dominated=False))\n",
    "\n",
    "levelset = (sqrt(x*x+y*y) - 1.0)\n",
    "Draw(levelset,mesh,\"levelset\")\n",
    "\n",
    "lsetp1 = GridFunction(H1(mesh,order=1))\n",
    "InterpolateToP1(levelset,lsetp1)\n",
    "Draw(lsetp1,mesh,\"lsetp1\")\n",
    "\n",
    "visoptions.mminval = 0.0\n",
    "visoptions.mmaxval = 0.0\n",
    "visoptions.deformation = 0\n",
    "visoptions.autoscale = 0"
   ]
  },
  {
   "cell_type": "markdown",
   "metadata": {},
   "source": [
    "### Cut FE spaces\n",
    "For the discretization we use standard background FESpaces restricted to the subdomains:\n",
    "$$\n",
    "V_h^\\Gamma = V_h |_{\\Omega_+^{lin}} \\oplus V_h |_{\\Omega_-^{lin}}\n",
    "$$\n",
    "In NGSolve we will simply take the product space $V_h \\times V_h$ but mark the irrelevant dofs using the CutInfo-class:"
   ]
  },
  {
   "cell_type": "code",
   "execution_count": null,
   "metadata": {
    "collapsed": true
   },
   "outputs": [],
   "source": [
    "Vh = H1(mesh, order=2, dirichlet=[1,2,3,4])\n",
    "VhG = FESpace([Vh,Vh])\n",
    "\n",
    "ci = CutInfo(mesh, lsetp1)\n",
    "hasneg = BitArray(ci.GetElementsOfType(NEG))  # <- \"hasneg\": has (also) negative level set values\n",
    "hasneg |= ci.GetElementsOfType(IF)\n",
    "haspos = BitArray(ci.GetElementsOfType(POS))  # <- \"haspos\": has (also) positive level set values\n",
    "haspos |= ci.GetElementsOfType(IF)\n",
    "freedofs = VhG.FreeDofs()\n",
    "relevantdofs = CompoundBitArray([GetDofsOfElements(Vh,hasneg),GetDofsOfElements(Vh,haspos)])\n",
    "freedofs &= relevantdofs\n",
    "\n",
    "gfu = GridFunction(VhG)\n",
    "gfu.components[0].Set(CoefficientFunction(-1))\n",
    "gfu.components[1].Set(CoefficientFunction(1))\n",
    "\n",
    "for i, val in enumerate(relevantdofs):\n",
    "    if val == False:\n",
    "        gfu.vec[i] = 0.0\n",
    "Draw(gfu.components[0],mesh,\"background_uneg\")\n",
    "Draw(gfu.components[1],mesh,\"background_upos\")"
   ]
  },
  {
   "cell_type": "markdown",
   "metadata": {},
   "source": [
    "Only the parts which are in the corresponding subdomain are relevant. The solution $u$ is\n",
    "$$\n",
    " u = \\left\\{ \\begin{array}{cc} u_- & \\text{ if } {\\phi}_h^{lin} < 0, \\\\ u_+ & \\text{ if } {\\phi}_h^{lin} \\geq 0. \\end{array} \\right.\n",
    "$$"
   ]
  },
  {
   "cell_type": "code",
   "execution_count": null,
   "metadata": {
    "collapsed": true
   },
   "outputs": [],
   "source": [
    "uh = IfPos(lsetp1,gfu.components[1],gfu.components[0])\n",
    "Draw(uh,mesh,\"u\",sd=5)"
   ]
  },
  {
   "cell_type": "markdown",
   "metadata": {},
   "source": [
    "## Nitsche discretization\n",
    "\n",
    "For the discretization of the interface problem we consider the Nitsche formulation:\n",
    "\\begin{align*}\n",
    "         \\sum_{i \\in \\{+,-\\}} & (\\alpha_i \\nabla u \\nabla v)_{\\Omega_i} + (\\{ - \\alpha \\nabla u \\cdot n \\}, [v])_\\Gamma  + ( [u],\\{ - \\alpha \\nabla v \\cdot n \\})_\\Gamma + ( \\frac{\\bar{\\alpha} \\lambda}{h}  [u] , [v])_{\\Gamma} = (f,v)_{\\Omega} \\quad \\forall ~ v \\in V_h^\\Gamma.\n",
    "\\end{align*}\n",
    "\n",
    "For this formulation we require:\n",
    "* a suitably defined average operator $\\{ \\cdot \\} = \\kappa_+ (\\cdot)|_{\\Omega_{+}} + \\kappa_- (\\cdot)|_{\\Omega_{-}}$\n",
    "* a suitable definition of the normal direction\n",
    "* numerical integration on $\\Omega_{+}^{lin}$, $\\Omega_{-}^{lin}$ and $\\Gamma^{lin}$"
   ]
  },
  {
   "cell_type": "markdown",
   "metadata": {},
   "source": [
    "### Cut ratio field\n",
    "For the average we use the \"Hansbo\"-choice: $\\kappa_- = |T \\cap \\Omega_-^{lin}|/|T|$\n",
    "This \"cut ratio\" field is provided by the CutInfo class:"
   ]
  },
  {
   "cell_type": "code",
   "execution_count": null,
   "metadata": {
    "collapsed": true
   },
   "outputs": [],
   "source": [
    "kappa = (CutRatioGF(ci), 1-CutRatioGF(ci))\n",
    "Draw(CoefficientFunction((kappa[0],kappa[1])),mesh,\"kappa\")\n",
    "visoptions.scalfunction = \"kappa:1\""
   ]
  },
  {
   "cell_type": "markdown",
   "metadata": {},
   "source": [
    "### Normal direction\n",
    "The normal direction is obtained from the level set function (interpolation):\n",
    "$$\n",
    "  n^{lin} = \\nabla \\phi_h^{lin}/\\Vert \\nabla \\phi_h^{lin} \\Vert\n",
    "$$"
   ]
  },
  {
   "cell_type": "code",
   "execution_count": null,
   "metadata": {
    "collapsed": true
   },
   "outputs": [],
   "source": [
    "n = 1.0/grad(lsetp1).Norm() * grad(lsetp1)\n",
    "Draw(n,mesh,\"normal\")"
   ]
  },
  {
   "cell_type": "markdown",
   "metadata": {},
   "source": [
    "### Averages and jumps\n",
    "\n",
    "Based on the background finite elements we can now define the averages and jumps:"
   ]
  },
  {
   "cell_type": "code",
   "execution_count": null,
   "metadata": {
    "collapsed": true
   },
   "outputs": [],
   "source": [
    "h = specialcf.mesh_size\n",
    "\n",
    "alpha = [1.0,20.0]\n",
    "\n",
    "# Nitsche stabilization parameter:\n",
    "stab = 20*(alpha[1]+alpha[0])/h\n",
    "\n",
    "# expressions of test and trial functions (u and v are tuples):\n",
    "u = VhG.TrialFunction()\n",
    "v = VhG.TestFunction()\n",
    "\n",
    "gradu = [grad(ui) for ui in u]\n",
    "gradv = [grad(vi) for vi in v]\n",
    "\n",
    "average_flux_u = sum([- kappa[i] * alpha[i] * gradu[i] * n for i in [0,1]])\n",
    "average_flux_v = sum([- kappa[i] * alpha[i] * gradv[i] * n for i in [0,1]])\n",
    "\n",
    "jump_u = u[0] - u[1]\n",
    "jump_v = v[0] - v[1]"
   ]
  },
  {
   "cell_type": "markdown",
   "metadata": {},
   "source": [
    "### Integrals\n",
    "\n",
    "To integrate only on the subdomains or the interface with a SymbolicBFI you have to add a \"levelset_domain\" argument which is a dictionary, cf. [intlset.ipynb](intlset.ipynb):"
   ]
  },
  {
   "cell_type": "code",
   "execution_count": null,
   "metadata": {
    "collapsed": true
   },
   "outputs": [],
   "source": [
    "lset_neg = { \"levelset\" : lsetp1, \"domain_type\" : NEG}\n",
    "lset_pos = { \"levelset\" : lsetp1, \"domain_type\" : POS}\n",
    "lset_if  = { \"levelset\" : lsetp1, \"domain_type\" : IF }"
   ]
  },
  {
   "cell_type": "code",
   "execution_count": null,
   "metadata": {
    "collapsed": true
   },
   "outputs": [],
   "source": [
    "bfi_neg = SymbolicBFI(levelset_domain = lset_neg, form = alpha[0] * gradu[0] * gradv[0])\n",
    "bfi_pos = SymbolicBFI(levelset_domain = lset_pos, form = alpha[1] * gradu[1] * gradv[1])\n",
    "bfi_if  = SymbolicBFI(levelset_domain = lset_if , form =       average_flux_u * jump_v\n",
    "                                                             + average_flux_v * jump_u\n",
    "                                                             +  stab * jump_u * jump_v )\n",
    "a = BilinearForm(VhG, symmetric = True, flags = { })\n",
    "for bfi in [bfi_neg,bfi_pos,bfi_if]:\n",
    "    a += bfi\n",
    "    \n",
    "coef_f = [1,0]    \n",
    "lfi_neg = SymbolicLFI(levelset_domain = lset_neg, form = coef_f[0] * v[0])\n",
    "lfi_pos = SymbolicLFI(levelset_domain = lset_pos, form = coef_f[1] * v[1])\n",
    "\n",
    "f = LinearForm(VhG)\n",
    "f += lfi_neg\n",
    "f += lfi_pos    "
   ]
  },
  {
   "cell_type": "markdown",
   "metadata": {},
   "source": [
    "In the sense of the NGSolve distinguishing V_or_B (volume or boundary) these integrals are ALL volume integrals. However, they are all acting only on some part of the mesh. The CutInfo class holds the information which elements are relevant for which integrals. We can use pass this information to the integrators to speed up assembly:"
   ]
  },
  {
   "cell_type": "code",
   "execution_count": null,
   "metadata": {
    "collapsed": true
   },
   "outputs": [],
   "source": [
    "bfi_neg.SetDefinedOnElements(hasneg)\n",
    "lfi_neg.SetDefinedOnElements(hasneg)\n",
    "bfi_pos.SetDefinedOnElements(haspos)\n",
    "lfi_pos.SetDefinedOnElements(haspos)\n",
    "bfi_if.SetDefinedOnElements(ci.GetElementsOfType(IF))\n",
    "a.Assemble()\n",
    "f.Assemble()"
   ]
  },
  {
   "cell_type": "markdown",
   "metadata": {},
   "source": [
    "We can now solve the problem (recall that freedofs only marks relevant dofs):"
   ]
  },
  {
   "cell_type": "code",
   "execution_count": null,
   "metadata": {
    "collapsed": true
   },
   "outputs": [],
   "source": [
    "#gfu.components[1].Set(solution[1], BND)\n",
    "\n",
    "f.vec.data -= a.mat * gfu.vec\n",
    "gfu.vec.data += a.mat.Inverse(freedofs) * f.vec\n",
    "Redraw()"
   ]
  },
  {
   "cell_type": "code",
   "execution_count": null,
   "metadata": {
    "collapsed": true
   },
   "outputs": [],
   "source": [
    "from numpy import linspace\n",
    "\n",
    "N=1000\n",
    "y = 0\n",
    "x_coords = linspace(-1.5,1.5,N)\n",
    "x_vals = [ 0 for i in range(N) ]\n",
    "for i, coord_x in enumerate(x_coords):\n",
    "    if (lsetp1(coord_x,y) < 0 ):\n",
    "        x_vals[i] = gfu.components[0](coord_x,y)\n",
    "    else:\n",
    "        x_vals[i] = gfu.components[1](coord_x,y)\n",
    "        \n",
    "   # Plot drag/lift forces over time\n",
    "\n",
    "import matplotlib\n",
    "import numpy as np\n",
    "import matplotlib.pyplot as plt\n",
    "%matplotlib inline  \n",
    "\n",
    "plt.plot(x_coords, x_vals)\n",
    "plt.xlabel('time')\n",
    "plt.ylabel('u')\n",
    "plt.title('u')\n",
    "#plt.grid(True)\n",
    "plt.show()         "
   ]
  },
  {
   "cell_type": "markdown",
   "metadata": {},
   "source": [
    "## Higher order accuracy\n",
    "In the previous example we used a second order FESpace but only used a second order accurate geometry representation (due to $\\phi_h^{lin}$). \n",
    "\n",
    "We can improve this by applying a mesh transformation technique, cf. [intlset.ipynb](intlset.ipynb):"
   ]
  },
  {
   "cell_type": "code",
   "execution_count": null,
   "metadata": {
    "collapsed": true
   },
   "outputs": [],
   "source": [
    "# for isoparametric mapping\n",
    "from xfem.lsetcurv import *\n",
    "lsetmeshadap = LevelSetMeshAdaptation(mesh, order=2)\n",
    "deformation = lsetmeshadap.CalcDeformation(levelset)\n",
    "Draw(deformation,mesh,\"deformation\")\n",
    "\n",
    "mesh.SetDeformation(deformation)\n",
    "a.Assemble()\n",
    "f.Assemble()\n",
    "f.vec.data -= a.mat * gfu.vec\n",
    "gfu.vec.data += a.mat.Inverse(freedofs) * f.vec\n",
    "visoptions.deformation = 1.0\n",
    "Draw(uh,mesh,\"u\",sd=5)\n",
    "Draw(CoefficientFunction((deformation[0],deformation[1],4*uh)),mesh,\"graph_of_u\",sd=5)"
   ]
  },
  {
   "cell_type": "markdown",
   "metadata": {},
   "source": [
    "## Python files\n",
    "On http://www.github.com/ngsxfem/ngsxfem you can find several similar examples in py_tutorials:\n",
    "* cutfem.py : similar to the low order case in this notebook\n",
    "* nxfem.py : same discretization but with a XFEM-type setup of the spaces (less unused dofs)\n",
    "* nxfem_higher_order.py : same discretization as in the section \"higher order accuracy\" but with XFEM-type spaces\n",
    "* fictdom_ghostpen.py : Fictitious domain problem (One domain only) with a ghost penalty stabilization\n",
    "* tracefem.py : Trace Finite element discretization (PDE on the interface only)"
   ]
  }
 ],
 "metadata": {
  "kernelspec": {
   "display_name": "Python 3",
   "language": "python",
   "name": "python3"
  },
  "language_info": {
   "codemirror_mode": {
    "name": "ipython",
    "version": 3
   },
   "file_extension": ".py",
   "mimetype": "text/x-python",
   "name": "python",
   "nbconvert_exporter": "python",
   "pygments_lexer": "ipython3",
   "version": "3.6.1"
  }
 },
 "nbformat": 4,
 "nbformat_minor": 2
}
