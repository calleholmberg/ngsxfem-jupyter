{
 "cells": [
  {
   "cell_type": "markdown",
   "metadata": {},
   "source": [
    "# Integration on level set domains\n",
    "We describe how to use a level set description in ngsxfem. To illustrate this in the context of a simple example, in this notebook we want to calculate the area of the unit circle using the representation of it as integral over 1 over a implicitly defined subset of $[-1.5, 1.5]^2 \\subset \\mathbb{R}^2$.\n",
    "\n",
    "Let $\\phi$ be a continuous level set function. Then we define the implicitly given domains and the interface\n",
    "\n",
    "$$\n",
    "  \\Omega_{-} := \\{ \\phi < 0 \\}, \\quad\n",
    "  \\Omega_{+} := \\{ \\phi > 0 \\}, \\quad\n",
    "  \\Gamma := \\{ \\phi = 0 \\}.\n",
    "$$"
   ]
  },
  {
   "cell_type": "code",
   "execution_count": null,
   "metadata": {
    "collapsed": true
   },
   "outputs": [],
   "source": [
    "import netgen.gui\n",
    "%gui tk\n",
    "import tkinter\n",
    "\n",
    "# the constant pi\n",
    "from math import pi\n",
    "# ngsolve stuff\n",
    "from ngsolve import *\n",
    "# basic xfem functionality\n",
    "from xfem import *\n",
    "# basic geometry features (for the background mesh)\n",
    "from netgen.geom2d import SplineGeometry\n",
    "# visualization stuff\n",
    "from ngsolve.internal import *\n",
    "\n",
    "#if netgen.gui.win.tk.dooneevent(tkinter._tkinter.DONT_WAIT):\n",
    "#    pass    "
   ]
  },
  {
   "cell_type": "markdown",
   "metadata": {},
   "source": [
    "We generate the background mesh of the domain and use a simplicial triangulation"
   ]
  },
  {
   "cell_type": "code",
   "execution_count": null,
   "metadata": {},
   "outputs": [],
   "source": [
    "square = SplineGeometry()\n",
    "square.AddRectangle([-1.5,-1.5],[1.5,1.5],bc=1)\n",
    "mesh = Mesh (square.GenerateMesh(maxh=0.8, quad_dominated=False))"
   ]
  },
  {
   "cell_type": "markdown",
   "metadata": {},
   "source": [
    "On the background mesh we define the level set function. In this example we choose a levelset function which measures the distance to the origin and substracts a constant r, resulting in an circle of radius r as $\\Omega_{-}$:"
   ]
  },
  {
   "cell_type": "code",
   "execution_count": null,
   "metadata": {},
   "outputs": [],
   "source": [
    "r=1\n",
    "levelset = sqrt(x*x+y*y)-r\n",
    "Draw(levelset, mesh, \"Levelset\")\n",
    "visoptions.mminval = 0.0\n",
    "visoptions.mmaxval = 0.0\n",
    "visoptions.deformation = 0\n",
    "visoptions.autoscale = 0"
   ]
  },
  {
   "cell_type": "markdown",
   "metadata": {
    "collapsed": true
   },
   "source": [
    "Using a levelset function like $\\phi = \\sqrt{x^2 + y^2} - 1$, we can represent the area of the unit circle as\n",
    "\n",
    "$$\n",
    "A = \\pi = \\int_{\\Omega_-(\\phi)} 1 \\, \\mathrm{d}x\n",
    "$$\n",
    "\n",
    "The ngsxfem function for integration on implicitly defined geometries is only able to handle functions $\\phi$ which are in $\\mathcal{P}^1(\\Omega)$. Therefore we replace the levelset function $\\phi$ with an approximation $\\phi^\\ast \\in \\mathcal{P}^1(\\Omega)$. In order to do so, we can use the function InterpolateToP1(...,...):"
   ]
  },
  {
   "cell_type": "code",
   "execution_count": null,
   "metadata": {
    "collapsed": true
   },
   "outputs": [],
   "source": [
    "V = H1(mesh,order=1)\n",
    "lset_approx = GridFunction(V)\n",
    "InterpolateToP1(levelset,lset_approx)\n",
    "\n",
    "Draw(lset_approx)\n",
    "visoptions.mminval = 0.0\n",
    "visoptions.mmaxval = 0.0\n",
    "visoptions.deformation = 0\n",
    "visoptions.autoscale = 0"
   ]
  },
  {
   "cell_type": "markdown",
   "metadata": {},
   "source": [
    "Notice that this replacement $\\phi \\mapsto \\phi^\\ast$ will introduce a geometry error of order $h^2$. We will investigate this numerically later on in this notebook.\n",
    "\n",
    "As a next step we need to define an integrand. This should be a ngsolve CoefficientFunction. In order to measure the area of the unit circle, the CoefficientFunction should be the constant function with value 1:"
   ]
  },
  {
   "cell_type": "code",
   "execution_count": null,
   "metadata": {
    "collapsed": true
   },
   "outputs": [],
   "source": [
    "f = CoefficientFunction(1)"
   ]
  },
  {
   "cell_type": "markdown",
   "metadata": {},
   "source": [
    "Now we are ready to call the Integrate Function. As arguments it needs the approximated levelset function $\\phi^\\ast$, the domain on which we want to integrate (POS, NEG or IF), the integrand (f in our case), the mesh and the order which should be used for the underlying Gaussian quadrature rules. Here we use first order since the geometry approximation also is only of low order. The call then looks as follows:"
   ]
  },
  {
   "cell_type": "code",
   "execution_count": null,
   "metadata": {},
   "outputs": [],
   "source": [
    "order = 2\n",
    "integral = Integrate(levelset_domain = { \"levelset\" : lset_approx, \"domain_type\" : NEG},\n",
    "                             cf=f, mesh=mesh, order = order)\n",
    "error = abs(integral - pi)\n",
    "print(\"Result of the integration: \", integral)\n",
    "print(\"Error of the integration: \", error)"
   ]
  },
  {
   "cell_type": "markdown",
   "metadata": {},
   "source": [
    "In order to investigate the convergence behaviour of the sketched procedure, we now save the previous error and execute a refinement and repeat the steps from above to get a better approximation of $\\pi$. You can repeadetly execute the lower block to have more refinement steps."
   ]
  },
  {
   "cell_type": "code",
   "execution_count": null,
   "metadata": {
    "collapsed": true
   },
   "outputs": [],
   "source": [
    "errors = [error]"
   ]
  },
  {
   "cell_type": "code",
   "execution_count": null,
   "metadata": {},
   "outputs": [],
   "source": [
    "mesh.Refine()\n",
    "\n",
    "V = H1(mesh,order=1)\n",
    "lset_approx = GridFunction(V)\n",
    "InterpolateToP1(levelset,lset_approx)\n",
    "\n",
    "Draw(lset_approx)\n",
    "visoptions.mminval = 0.0\n",
    "visoptions.mmaxval = 0.0\n",
    "visoptions.deformation = 0\n",
    "visoptions.autoscale = 0\n",
    "\n",
    "integral = Integrate(levelset_domain = { \"levelset\" : lset_approx, \"domain_type\" : NEG},\n",
    "                             cf=f, mesh=mesh, order = order)\n",
    "\n",
    "error = abs(integral - pi)\n",
    "print(\"Result of the integration: \", integral)\n",
    "print(\"Error of the integration: \", error)\n",
    "\n",
    "errors.append(error)\n",
    "eoc = [log(errors[i+1]/errors[i])/log(0.5) for i in range(len(errors)-1)]\n",
    "\n",
    "print(\"Collected L2 errors:\", errors)\n",
    "print(\"experimental order of convergence (L2):\", eoc)"
   ]
  },
  {
   "cell_type": "markdown",
   "metadata": {},
   "source": [
    "We observe second order convergence which result from the geometry approximation.\n",
    "\n",
    "In order to get higher order convergence we can use the isoparametric mapping functionality of xfem."
   ]
  },
  {
   "cell_type": "code",
   "execution_count": null,
   "metadata": {},
   "outputs": [],
   "source": [
    "from xfem.lsetcurv import *\n",
    "\n",
    "order = 4\n",
    "refinements = 6\n",
    "mesh = Mesh (square.GenerateMesh(maxh=0.8, quad_dominated=False))\n",
    "\n",
    "levelset = sqrt(x*x+y*y)-1\n",
    "referencevals = { POS : 9-pi, NEG : pi, IF : 2*pi }\n",
    "\n",
    "lsetmeshadap = LevelSetMeshAdaptation(mesh, order=order, threshold=0.2, discontinuous_qn=True)\n",
    "lsetp1 = lsetmeshadap.lset_p1\n",
    "errors_uncurved = dict()\n",
    "errors_curved = dict()\n",
    "eoc_uncurved = dict()\n",
    "eoc_curved = dict()\n",
    "\n",
    "for key in [NEG,POS,IF]:\n",
    "    errors_curved[key] = []\n",
    "    errors_uncurved[key] = []\n",
    "    eoc_curved[key] = []\n",
    "    eoc_uncurved[key] = []\n",
    "\n",
    "f = CoefficientFunction (1.0)\n",
    "\n",
    "for reflevel in range(refinements):\n",
    "    if(reflevel > 0):\n",
    "        mesh.Refine()\n",
    "\n",
    "    for key in [NEG,POS,IF]:\n",
    "        # Applying the mesh deformation\n",
    "        deformation = lsetmeshadap.CalcDeformation(levelset)\n",
    "\n",
    "        integrals_uncurved = Integrate(levelset_domain = { \"levelset\" : lsetp1, \"domain_type\" : key},\n",
    "                                        cf=f, mesh=mesh, order = order)\n",
    "\n",
    "        mesh.SetDeformation(deformation)\n",
    "        integrals_curved = Integrate(levelset_domain = { \"levelset\" : lsetp1, \"domain_type\" : key},\n",
    "                                       cf=f, mesh=mesh, order = order)\n",
    "        # Unapply the mesh deformation (for refinement)\n",
    "        mesh.UnsetDeformation()\n",
    "\n",
    "        errors_curved[key].append(abs(integrals_curved - referencevals[key]))\n",
    "        errors_uncurved[key].append(abs(integrals_uncurved - referencevals[key]))\n",
    "    # refine cut elements:\n",
    "    RefineAtLevelSet(gf=lsetmeshadap.lset_p1)\n",
    "\n",
    "for key in [NEG,POS,IF]:\n",
    "    eoc_curved[key] = [log(a/b)/log(2) for (a,b) in zip (errors_curved[key][0:-1],errors_curved[key][1:]) ]\n",
    "    eoc_uncurved[key] = [log(a/b)/log(2) for (a,b) in zip (errors_uncurved[key][0:-1],errors_uncurved[key][1:]) ]\n",
    "\n",
    "print(\"errors (  curved):  \\n{}\\n\".format(  errors_curved))\n",
    "print(\"   eoc (  curved):  \\n{}\\n\".format(     eoc_curved))\n",
    "\n",
    "print(\"avg.eoc(  curved):  \\n{}\\n\".format(     sum(eoc_curved[IF][2:])/len(eoc_curved[IF][2:])))\n",
    "print(\"avg.eoc(  curved):  \\n{}\\n\".format(     sum(eoc_curved[NEG][2:])/len(eoc_curved[NEG][2:])))\n",
    "print(\"avg.eoc(  curved):  \\n{}\\n\".format(     sum(eoc_curved[POS][2:])/len(eoc_curved[POS][2:])))"
   ]
  },
  {
   "cell_type": "markdown",
   "metadata": {},
   "source": [
    "Try some other parameter values for (order, refinements) and compare the results."
   ]
  }
 ],
 "metadata": {
  "kernelspec": {
   "display_name": "Python 3",
   "language": "python",
   "name": "python3"
  },
  "language_info": {
   "codemirror_mode": {
    "name": "ipython",
    "version": 3
   },
   "file_extension": ".py",
   "mimetype": "text/x-python",
   "name": "python",
   "nbconvert_exporter": "python",
   "pygments_lexer": "ipython3",
   "version": "3.6.1"
  }
 },
 "nbformat": 4,
 "nbformat_minor": 2
}
