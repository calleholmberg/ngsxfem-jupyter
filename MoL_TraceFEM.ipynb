{
 "cells": [
  {
   "cell_type": "markdown",
   "metadata": {},
   "source": [
    "# A moving surface problem:\n",
    "In this example we consider a moving surface problem:\n",
    "\n",
    "$$\n",
    "\\dot{u} + ({div}_\\Gamma \\mathbf{w} ) u - \\nu \\Delta_\\Gamma u = 0 \\quad on \\quad \\Gamma(t),   \\qquad  t \\in [0,T]   \n",
    "$$\n",
    "where $\\Gamma(t)$ changes in time (while $\\Gamma(t)$ is always smooth) and is described by a level set function $\\phi(t)$.\n",
    "\n",
    "We follow an approach from [1] where we extend the solution u into a small neighborhood $\\mathcal{O}(\\Gamma(t))$ and there solve the related problem\n",
    "\\begin{align}\n",
    "  \\partial_t u + \\mathbf{w} \\cdot \\nabla u + ({div}_\\Gamma \\mathbf{w} ) u - \\nu \\Delta_\\Gamma u &= 0 \\quad \\text{on} \\quad \\Gamma(t) \\\\\n",
    "  \\nabla u \\cdot \\nabla \\phi & = 0 \\quad \\text{in} \\quad \\mathcal{O}(\\Gamma(t)).\n",
    "\\end{align}\n",
    "The second equation determines u to be a constant extension in normal direction of the solution on the surface. This extension allows to evaluate u at an older time instance on the surface which may have moved as long as the neighborhood is sufficiently large. Hence, we require $\\Gamma_h^n \\subset \\mathcal{O}(\\Gamma_h^{n-1})$ where $\\Gamma_h^k,~k=n-1,n$ are the discrete surface approximations of two subsequent time steps.\n",
    "\n",
    "This allows to apply a [method of lines](http://www.scholarpedia.org/article/Method_of_lines) approach. Here, we consider the backward Euler method:\n",
    "\n",
    "\\begin{align}\n",
    "  \\frac{u^n - u^{n-1}}{\\Delta t} + \\mathbf{w}^n \\cdot \\nabla u^n + ({div}_\\Gamma \\mathbf{w}^n ) u^n - \\nu \\Delta_\\Gamma u^n &= 0 \\quad \\text{on} \\quad \\Gamma^n \\\\\n",
    "  \\nabla u^n \\cdot \\nabla \\phi^n & = 0 \\quad \\text{in} \\quad \\mathcal{O}(\\Gamma^n).\n",
    "\\end{align}\n",
    "\n",
    "Note that $u^{n-1}$ is well-defined on $\\Gamma^n$ as $\\Gamma^n \\subset \\mathcal{O}(\\Gamma^{n-1})$.\n",
    "\n",
    "The realization of the extension is included in each time step solves as a stabilization. This simplifies the realization of the extension, but also allows to obtain reasonable condition number bounds. Let $V_h^n$ be the finite element space to the part of the mesh that is touched by $\\mathcal{0}(\\Gamma^n)$, then every time step is discretized with (for $u^{n-1} \\in V_h^{n-1} \\subset L^2(\\mathcal{O}(\\Gamma^{n-1})$):\n",
    "\n",
    "Find $u_h^n \\in V_h^n$, s.t.\n",
    "\\begin{align}\n",
    "  \\int_{\\Gamma_h^n} \\left\\{ \\frac{u_h^n -u_h^{n-1}}{\\Delta t} v_h + \\frac12 (w_T^e \\cdot \\nabla_{\\Gamma_h} u_h^n v_h - \\mathbf{w}_T^e \\cdot \\nabla_{\\Gamma_h} v_h u_h^n) + ({div}_{\\Gamma_h} (\\mathbf{w}^e -\\frac12 \\mathbf{w}_T^e) u_h^n v_h \\right \\} ds_h &  \\\\\n",
    "  + \\nu \\int_{\\Gamma_h^n} \\nabla_{\\Gamma_h} u_h^n \\cdot \\nabla_{\\Gamma_h} v_h ds_h + \\rho_n \\int_{\\mathcal{O}(\\Gamma_h^n)} (\\mathbf{n}_h \\cdot \\nabla u_h^n) (\\mathbf{n}_h \\cdot \\nabla v_h^n) d \\mathbf{x} & = 0\n",
    "\\end{align}\n",
    "for all $v_h \\in V_h^n$.\n",
    "\n",
    "Literature:\n",
    "----------------------\n",
    "[1]: C. Lehrenfeld, M.A. Olshanskii, and X. Xu. A stabilized trace finite element method for partial differential equations on evolving surfaces. arXiv preprint arXiv:1709.07117, 2017. [ [http](https://arxiv.org/abs/1709.07117) | [.pdf](https://arxiv.org/pdf/1709.05832.pdf) ]\n"
   ]
  },
  {
   "cell_type": "code",
   "execution_count": null,
   "metadata": {
    "collapsed": true
   },
   "outputs": [],
   "source": [
    "import netgen.gui\n",
    "%gui tk\n",
    "import tkinter\n",
    "\n",
    "from ngsolve import *\n",
    "from ngsolve.comp import *\n",
    "from ngsolve.utils import *\n",
    "from ngsolve.internal import *\n",
    "from xfem import *\n",
    "from netgen.geom2d import SplineGeometry\n",
    "from xfem.lsetcurv import *\n",
    "from math import pi\n",
    "from time import sleep"
   ]
  },
  {
   "cell_type": "markdown",
   "metadata": {},
   "source": [
    "# Building blocks of the method"
   ]
  },
  {
   "cell_type": "markdown",
   "metadata": {},
   "source": [
    "## Description of the geometry\n",
    "\n",
    "We use a levelset function $\\phi(t) =  \\sqrt{x^2 + (y-\\rho(t))^2} - r_{0}$ with\n",
    "$r_{0} = 1/2$, to describe the evolving geometry. The moving domain is then given as the set of points where \n",
    "the levelset function takes negative values:\n",
    " $ \\Omega(t) = \\{ (x,y) \\in \\mathbb{R}^2 \\mid \\phi(x,y,t) < 0 \\}$.\n",
    "The time-dependent domain $\\Omega(t)$ is contained in a larger, time-independent domain $\\Omega = [-1,1] \\times [-0.75,1.5]$.\n",
    "The mesh is contructed on the background domain $\\Omega$ and unfitted to $\\Omega(t)$."
   ]
  },
  {
   "cell_type": "code",
   "execution_count": null,
   "metadata": {
    "collapsed": true
   },
   "outputs": [],
   "source": [
    "# geometry\n",
    "square = SplineGeometry()\n",
    "square.AddRectangle([-1,-0.75],[1,1.5],bc=1)\n",
    "maxh = 0.1\n",
    "mesh = Mesh (square.GenerateMesh(maxh=maxh))\n",
    "\n",
    "# keeping track of time\n",
    "t = Parameter(0)\n",
    "tnew = 0\n",
    "tend = 0.5\n",
    "delta_t = 0.01\n",
    "\n",
    "# the levelset function that describes the domain's evolution\n",
    "r0 = 0.5\n",
    "rho =  CoefficientFunction((1/(pi))*sin(2*pi*t))\n",
    "levelset= CoefficientFunction(sqrt(x*x+(y-rho)*(y-rho)) -r0)\n",
    "\n",
    "# mesh adaptation class that also calculates a P1 approximation to a levelset function\n",
    "lsetmeshadap = LevelSetMeshAdaptation(mesh, order=1, threshold=0.1, discontinuous_qn=True)\n",
    "# visualize the domain's evolution\n",
    "while tend - tnew > delta_t/2:\n",
    "    if netgen.gui.win.tk.dooneevent(tkinter._tkinter.DONT_WAIT):\n",
    "        pass\n",
    "    deformation = lsetmeshadap.CalcDeformation(levelset)\n",
    "    Draw(IfPos(-lsetmeshadap.lset_p1,CoefficientFunction(1),CoefficientFunction(0)),mesh,\"movingDom\")\n",
    "    tnew +=  delta_t\n",
    "    t.Set(tnew)\n",
    "    sleep(0.15)"
   ]
  },
  {
   "cell_type": "markdown",
   "metadata": {},
   "source": [
    "## Finite Element Space for discretization on time slab\n",
    "\n",
    "The problem will be treated by a Space-Time DG Method. In order to avoid 2+1 dimensional complexity, the Space-Time domain will be split into so called time slabs:\n",
    "$Q^{n} = \\{ (x,y,t) \\mid (x,y) \\in \\Omega(t), \\, t \\in (t_{n-1},t_{n}] \\} $. We will derive a suitable weak variational formulation on the $Q^{n}$ that allows to solve the problem time slab per time slab. This leads to the variational structure of a time stepping scheme. To this end, we need a Finite Element space on the time slab:\n",
    "\n",
    "\\begin{equation*}\n",
    "W_{n} = \\{ v: Q^{n} \\rightarrow \\mathbb{R} \\mid v(x,t) = \\sum_{m= 0}^{k_{t}}{ \\phi_{m}(t) u_{m}(x)}, \\, \\varphi_{m} \\in V_{h}, m=0, \\ldots, k_{t}  \\}.\n",
    "\\end{equation*}\n",
    "\n",
    "The functions in $W_{n}$ are tensor products between basis functions in time $\\phi_{m}(t)$ and purely space-dependent functions $u_{m}(x)$ from a standard Finite-Element Space $V_{h}$ of order $k_{s}$ defined on the background domain $\\Omega$. The polynomial degrees in space and time can be prescribed independently."
   ]
  },
  {
   "cell_type": "markdown",
   "metadata": {},
   "source": [
    "## Python file \n",
    "\n",
    "A corresponding Python file for the method is available from http://www.github.com/ngsxfem/ngsxfem."
   ]
  }
 ],
 "metadata": {
  "kernelspec": {
   "display_name": "Python 3",
   "language": "python",
   "name": "python3"
  },
  "language_info": {
   "codemirror_mode": {
    "name": "ipython",
    "version": 3
   },
   "file_extension": ".py",
   "mimetype": "text/x-python",
   "name": "python",
   "nbconvert_exporter": "python",
   "pygments_lexer": "ipython3",
   "version": "3.6.2"
  }
 },
 "nbformat": 4,
 "nbformat_minor": 2
}
