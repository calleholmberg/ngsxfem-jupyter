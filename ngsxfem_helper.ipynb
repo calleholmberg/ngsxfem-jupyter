{
 "cells": [
  {
   "cell_type": "markdown",
   "metadata": {},
   "source": [
    "# Geometry description with the level set function\n",
    "We describe how to use a level set description in ngsxfem.\n",
    "\n",
    "Let $\\phi$ be a continuous level set function. \n",
    "\n",
    "We define the domains and the interface\n",
    "\n",
    "$$\n",
    "  \\Omega_{-} := \\{ \\phi < 0 \\}, \\quad\n",
    "  \\Omega_{+} := \\{ \\phi > 0 \\}, \\quad\n",
    "  \\Gamma := \\{ \\phi = 0 \\}.\n",
    "$$"
   ]
  },
  {
   "cell_type": "code",
   "execution_count": 27,
   "metadata": {
    "collapsed": true
   },
   "outputs": [],
   "source": [
    "import netgen.gui\n",
    "%gui tk\n",
    "import tkinter\n",
    "\n",
    "# the constant pi\n",
    "from math import pi\n",
    "# ngsolve stuff\n",
    "from ngsolve import *\n",
    "# basic xfem functionality\n",
    "from xfem import *\n",
    "# basic geometry features (for the background mesh)\n",
    "from netgen.geom2d import SplineGeometry\n",
    "# visualization stuff\n",
    "from ngsolve.internal import *"
   ]
  },
  {
   "cell_type": "markdown",
   "metadata": {},
   "source": [
    "We generate the background mesh of the domain and use a simplicial triangulation"
   ]
  },
  {
   "cell_type": "code",
   "execution_count": 28,
   "metadata": {},
   "outputs": [
    {
     "name": "stdout",
     "output_type": "stream",
     "text": [
      "bcs =  [1, 1, 1, 1]\n"
     ]
    }
   ],
   "source": [
    "square = SplineGeometry()\n",
    "square.AddRectangle([-1.5,-1.5],[1.5,1.5],bc=1)\n",
    "mesh = Mesh (square.GenerateMesh(maxh=0.5, quad_dominated=False))"
   ]
  },
  {
   "cell_type": "markdown",
   "metadata": {},
   "source": [
    "On the background mesh we define the level set function. \n",
    "\n",
    "In the visualization we distinguish the negative and the positive part of the level set values corresponding to the subdomains that are described."
   ]
  },
  {
   "cell_type": "code",
   "execution_count": 29,
   "metadata": {
    "collapsed": true
   },
   "outputs": [],
   "source": [
    "levelset = (sqrt(sqrt(x*x*x*x+y*y*y*y)) - 1.0)\n",
    "Draw(levelset,mesh,\"levelset\")\n",
    "visoptions.mminval = 0.0\n",
    "visoptions.mmaxval = 0.0\n",
    "visoptions.deformation = 0\n",
    "visoptions.autoscale = 0\n"
   ]
  },
  {
   "cell_type": "markdown",
   "metadata": {},
   "source": [
    "It is difficult to work with arbitrary level set function. To obtain something feasible, we interpolate into the space of piecewise linear functions. The thusly obtained approximation is straight within each element and hence is much easier to handle (e.g. for numerical integration)."
   ]
  },
  {
   "cell_type": "code",
   "execution_count": 30,
   "metadata": {
    "collapsed": true
   },
   "outputs": [],
   "source": [
    "lsetp1 = GridFunction(H1(mesh,order=1))\n",
    "InterpolateToP1(levelset,lsetp1)\n",
    "Draw(lsetp1,mesh,\"lsetp1\")\n",
    "visoptions.mminval = 0.0\n",
    "visoptions.mmaxval = 0.0\n",
    "visoptions.deformation = 0\n",
    "visoptions.autoscale = 0"
   ]
  },
  {
   "cell_type": "markdown",
   "metadata": {},
   "source": [
    "## Cut Information"
   ]
  },
  {
   "cell_type": "markdown",
   "metadata": {},
   "source": [
    "In unfitted finite element it is important to know which elements are cut by the interface $ \\{ \\phi = 0 \\} $. These informations are gathered in the cut information class:"
   ]
  },
  {
   "cell_type": "code",
   "execution_count": 31,
   "metadata": {
    "collapsed": true
   },
   "outputs": [],
   "source": [
    "ci = CutInfo(mesh, lsetp1)"
   ]
  },
  {
   "cell_type": "markdown",
   "metadata": {},
   "source": [
    "### Marking elements"
   ]
  },
  {
   "cell_type": "markdown",
   "metadata": {},
   "source": [
    "We can ask for BitArrays corresponding to the differently marked elements \n",
    "  * NEG : True if $\\phi < 0$ everywhere on this element, else False\n",
    "  * POS : True if $\\phi > 0$ everywhere on this element, else False\n",
    "  * IF : True if $\\phi = 0$ somewhere on this element, else False  "
   ]
  },
  {
   "cell_type": "code",
   "execution_count": 32,
   "metadata": {
    "collapsed": true
   },
   "outputs": [],
   "source": [
    "ba_IF = ci.GetElementsOfType(IF)\n",
    "cf_IF = BitArrayCF(ba_IF)\n",
    "Draw(cf_IF,mesh,\"cut_elements\")"
   ]
  },
  {
   "cell_type": "code",
   "execution_count": 33,
   "metadata": {
    "collapsed": true
   },
   "outputs": [],
   "source": [
    "ba_NEG = ci.GetElementsOfType(NEG)\n",
    "cf_NEG = BitArrayCF(ba_NEG)\n",
    "Draw(cf_NEG,mesh,\"neg_elements\")"
   ]
  },
  {
   "cell_type": "code",
   "execution_count": 34,
   "metadata": {
    "collapsed": true
   },
   "outputs": [],
   "source": [
    "ba_POS = ci.GetElementsOfType(POS)\n",
    "cf_POS = BitArrayCF(ba_POS)\n",
    "Draw(cf_POS,mesh,\"pos_elements\")"
   ]
  },
  {
   "cell_type": "markdown",
   "metadata": {},
   "source": [
    "Other collection of elements (which are uncut, which are not in NEG or POS) can also be easily obtained, e.g."
   ]
  },
  {
   "cell_type": "code",
   "execution_count": 35,
   "metadata": {
    "collapsed": true
   },
   "outputs": [],
   "source": [
    "ba_uncut = BitArray(ba_NEG)\n",
    "ba_uncut |= ba_POS\n",
    "cf_uncut = BitArrayCF(ba_uncut)\n",
    "Draw(cf_uncut,mesh,\"uncut_elements\")"
   ]
  },
  {
   "cell_type": "code",
   "execution_count": 36,
   "metadata": {
    "collapsed": true
   },
   "outputs": [],
   "source": [
    "ba_hasneg = BitArray(ba_NEG)\n",
    "ba_hasneg |= ba_IF\n",
    "cf_hasneg = BitArrayCF(ba_hasneg)\n",
    "Draw(cf_hasneg,mesh,\"hasneg_elements\")"
   ]
  },
  {
   "cell_type": "markdown",
   "metadata": {},
   "source": [
    "### Marking facets"
   ]
  },
  {
   "cell_type": "markdown",
   "metadata": {},
   "source": [
    "Sometimes we also want to mark some facets depending on their neighbors, e.g. to add some stabilization terms there. By providing two element-based BitArray we obtain a BitArray for the facets where. Let A1,A2 be the BitArray-values for the left neighbor and B1,B2 be the BitArray-value for the right neighbor. There are two options to connect these BitArrays:\n",
    " * use_and=True (default): the result is True for a facet if (A1 and B2) or (B1 and A2)\n",
    " * use_and=False     (or): the result is True for a facet if (A1 or B2) or (B1 or A2)\n",
    "with bnd_val_a and bnd_val_b (default: True) we can prescribe how the BitArray should be interpreted if there is only one neighbor (boundary)."
   ]
  },
  {
   "cell_type": "markdown",
   "metadata": {},
   "source": [
    "#### Example 1:\n",
    "\n",
    "We mark all facets that are on the outer boundary of the NEG-domain. We achieve this by connecting (with and) the IF-elements with the NEG-elements."
   ]
  },
  {
   "cell_type": "code",
   "execution_count": 44,
   "metadata": {
    "collapsed": true
   },
   "outputs": [],
   "source": [
    "ba_facets = GetFacetsWithNeighborTypes(mesh,a=ba_NEG,b=ba_IF,bnd_val_a=False,bnd_val_b=False)"
   ]
  },
  {
   "cell_type": "markdown",
   "metadata": {},
   "source": [
    "We can also go from facets to elements"
   ]
  },
  {
   "cell_type": "code",
   "execution_count": 45,
   "metadata": {
    "collapsed": true
   },
   "outputs": [],
   "source": [
    "ba_surround_facets = GetElementsWithNeighborFacets(mesh,ba_facets)\n",
    "Draw(BitArrayCF(ba_surround_facets), mesh, \"surrounding_facets\")"
   ]
  },
  {
   "cell_type": "markdown",
   "metadata": {},
   "source": [
    "#### Example 2:\n",
    "\n",
    "We mark all facets that have at least one neighbor in the NEG-domain."
   ]
  },
  {
   "cell_type": "code",
   "execution_count": 62,
   "metadata": {
    "collapsed": true
   },
   "outputs": [],
   "source": [
    "ba_facets_NEG = GetFacetsWithNeighborTypes(mesh,a=ba_NEG,b=ba_NEG,bnd_val_a=False,\n",
    "                                           bnd_val_b=False,use_and=False)\n",
    "ba_extended_NEG = GetElementsWithNeighborFacets(mesh,ba_facets_NEG)\n",
    "Draw(BitArrayCF(ba_extended_NEG), mesh, \"extended_NEG\")"
   ]
  },
  {
   "cell_type": "markdown",
   "metadata": {},
   "source": [
    "We can successively apply this to extend from some part of the domain by direct neighbors, etc ...."
   ]
  },
  {
   "cell_type": "code",
   "execution_count": 67,
   "metadata": {},
   "outputs": [],
   "source": [
    "ba_facets_NEG = GetFacetsWithNeighborTypes(mesh,a=ba_extended_NEG,b=ba_extended_NEG,\n",
    "                                           bnd_val_a=False,bnd_val_b=False,use_and=False)\n",
    "ba_extended_NEG = GetElementsWithNeighborFacets(mesh,ba_facets_NEG)\n",
    "Draw(BitArrayCF(ba_extended_NEG), mesh, \"extended_NEG\")"
   ]
  },
  {
   "cell_type": "markdown",
   "metadata": {},
   "source": [
    "### Marking dofs"
   ]
  },
  {
   "cell_type": "markdown",
   "metadata": {},
   "source": [
    "Assume you want to solve a problem based on a finite element space w.r.t. the background mesh restricted to a subdomain, e.g.\n",
    " * a fictitious domain method on $\\Omega_{-} = \\{ \\phi < 0 \\}$\n",
    " * a trace finite element on $\\Gamma = \\{ \\phi = 0\\}$\n",
    " \n",
    "In this case you can use the standard finite element space but need to know which degrees of freedom are really used and which ones are unused. We have helper functions for that as well.\n",
    "\n",
    "As an example we use a marking for a fictitious domain method"
   ]
  },
  {
   "cell_type": "code",
   "execution_count": 37,
   "metadata": {},
   "outputs": [],
   "source": [
    "VhG = H1(mesh, order=1, dirichlet=[])\n",
    "freedofs = VhG.FreeDofs()\n",
    "freedofs &= GetDofsOfElements(VhG,ba_hasneg)"
   ]
  },
  {
   "cell_type": "markdown",
   "metadata": {},
   "source": [
    "### Marking integrators"
   ]
  },
  {
   "cell_type": "markdown",
   "metadata": {},
   "source": [
    "Furthermore, the marker fields can be used to restrict integrators to some elements:"
   ]
  },
  {
   "cell_type": "code",
   "execution_count": 39,
   "metadata": {
    "collapsed": true
   },
   "outputs": [],
   "source": [
    "integrator = SymbolicBFI(VhG.TrialFunction()*VhG.TestFunction())\n",
    "integrator.SetDefinedOnElements(ba_hasneg)"
   ]
  },
  {
   "cell_type": "markdown",
   "metadata": {},
   "source": [
    "## Integration on level set domains"
   ]
  },
  {
   "cell_type": "code",
   "execution_count": null,
   "metadata": {
    "collapsed": true
   },
   "outputs": [],
   "source": []
  }
 ],
 "metadata": {
  "kernelspec": {
   "display_name": "Python 3",
   "language": "python",
   "name": "python3"
  },
  "language_info": {
   "codemirror_mode": {
    "name": "ipython",
    "version": 3
   },
   "file_extension": ".py",
   "mimetype": "text/x-python",
   "name": "python",
   "nbconvert_exporter": "python",
   "pygments_lexer": "ipython3",
   "version": "3.6.1"
  }
 },
 "nbformat": 4,
 "nbformat_minor": 2
}
